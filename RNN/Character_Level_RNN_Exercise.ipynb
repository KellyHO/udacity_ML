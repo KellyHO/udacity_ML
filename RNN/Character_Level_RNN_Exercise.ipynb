{
  "nbformat": 4,
  "nbformat_minor": 0,
  "metadata": {
    "kernelspec": {
      "name": "python3",
      "display_name": "Python 3"
    },
    "language_info": {
      "codemirror_mode": {
        "name": "ipython",
        "version": 3
      },
      "file_extension": ".py",
      "mimetype": "text/x-python",
      "name": "python",
      "nbconvert_exporter": "python",
      "pygments_lexer": "ipython3",
      "version": "3.6.4"
    },
    "colab": {
      "name": "Character_Level_RNN_Exercise.ipynb",
      "provenance": []
    },
    "accelerator": "GPU"
  },
  "cells": [
    {
      "cell_type": "markdown",
      "metadata": {
        "id": "08wc1fwecX1X",
        "colab_type": "text"
      },
      "source": [
        "# Character-Level LSTM in PyTorch\n",
        "\n",
        "In this notebook, I'll construct a character-level LSTM with PyTorch. The network will train character by character on some text, then generate new text character by character. As an example, I will train on Anna Karenina. **This model will be able to generate new text based on the text from the book!**\n",
        "\n",
        "This network is based off of Andrej Karpathy's [post on RNNs](http://karpathy.github.io/2015/05/21/rnn-effectiveness/) and [implementation in Torch](https://github.com/karpathy/char-rnn). Below is the general architecture of the character-wise RNN.\n",
        "\n",
        "<img src=\"assets/charseq.jpeg\" width=\"500\">"
      ]
    },
    {
      "cell_type": "markdown",
      "metadata": {
        "id": "Ce6QJHbKcX1Z",
        "colab_type": "text"
      },
      "source": [
        "First let's load in our required resources for data loading and model creation."
      ]
    },
    {
      "cell_type": "code",
      "metadata": {
        "id": "yCNh8ZrQcX1b",
        "colab_type": "code",
        "colab": {}
      },
      "source": [
        "import numpy as np\n",
        "import torch\n",
        "from torch import nn\n",
        "import torch.nn.functional as F"
      ],
      "execution_count": 0,
      "outputs": []
    },
    {
      "cell_type": "markdown",
      "metadata": {
        "id": "iax6DPVecX1g",
        "colab_type": "text"
      },
      "source": [
        "## Load in Data\n",
        "\n",
        "Then, we'll load the Anna Karenina text file and convert it into integers for our network to use. "
      ]
    },
    {
      "cell_type": "code",
      "metadata": {
        "id": "gf-lEGVTcX1h",
        "colab_type": "code",
        "colab": {
          "base_uri": "https://localhost:8080/",
          "height": 189
        },
        "outputId": "e1b0b813-46c5-4464-c28d-832478cb59be"
      },
      "source": [
        "# open text file and read in data as `text`\n",
        "# data_path = 'data/anna.txt'\n",
        "\n",
        "# on google drive\n",
        "from google.colab import drive\n",
        "drive.mount('/content/drive')\n",
        "data_path = '/content/drive/My Drive/Colab Notebooks/dataset/anna.txt'\n",
        "\n",
        "with open(data_path, 'r') as f:\n",
        "    text = f.read()"
      ],
      "execution_count": 1,
      "outputs": [
        {
          "output_type": "stream",
          "text": [
            "Go to this URL in a browser: https://accounts.google.com/o/oauth2/auth?client_id=947318989803-6bn6qk8qdgf4n4g3pfee6491hc0brc4i.apps.googleusercontent.com&redirect_uri=urn%3Aietf%3Awg%3Aoauth%3A2.0%3Aoob&scope=email%20https%3A%2F%2Fwww.googleapis.com%2Fauth%2Fdocs.test%20https%3A%2F%2Fwww.googleapis.com%2Fauth%2Fdrive%20https%3A%2F%2Fwww.googleapis.com%2Fauth%2Fdrive.photos.readonly%20https%3A%2F%2Fwww.googleapis.com%2Fauth%2Fpeopleapi.readonly&response_type=code\n",
            "\n",
            "Enter your authorization code:\n",
            "··········\n",
            "Mounted at /content/drive\n"
          ],
          "name": "stdout"
        }
      ]
    },
    {
      "cell_type": "markdown",
      "metadata": {
        "id": "80kCbqeOcX1j",
        "colab_type": "text"
      },
      "source": [
        "Let's check out the first 100 characters, make sure everything is peachy. According to the [American Book Review](http://americanbookreview.org/100bestlines.asp), this is the 6th best first line of a book ever."
      ]
    },
    {
      "cell_type": "code",
      "metadata": {
        "id": "9dDLOhc8cX1k",
        "colab_type": "code",
        "colab": {
          "base_uri": "https://localhost:8080/",
          "height": 34
        },
        "outputId": "af74e479-97a6-4aec-9339-421ad826b486"
      },
      "source": [
        "text[:100]"
      ],
      "execution_count": 3,
      "outputs": [
        {
          "output_type": "execute_result",
          "data": {
            "text/plain": [
              "'Chapter 1\\n\\n\\nHappy families are all alike; every unhappy family is unhappy in its own\\nway.\\n\\nEverythin'"
            ]
          },
          "metadata": {
            "tags": []
          },
          "execution_count": 3
        }
      ]
    },
    {
      "cell_type": "markdown",
      "metadata": {
        "id": "9gtFnSiNcX1o",
        "colab_type": "text"
      },
      "source": [
        "### Tokenization\n",
        "\n",
        "In the cells, below, I'm creating a couple **dictionaries** to convert the characters to and from integers. Encoding the characters as integers makes it easier to use as input in the network."
      ]
    },
    {
      "cell_type": "code",
      "metadata": {
        "id": "ccQH9_yGcX1o",
        "colab_type": "code",
        "colab": {}
      },
      "source": [
        "# encode the text and map each character to an integer and vice versa\n",
        "\n",
        "# we create two dictionaries:\n",
        "# 1. int2char, which maps integers to characters\n",
        "# 2. char2int, which maps characters to unique integers\n",
        "chars = tuple(set(text))\n",
        "int2char = dict(enumerate(chars))\n",
        "char2int = {ch: ii for ii, ch in int2char.items()}\n",
        "\n",
        "# encode the text\n",
        "encoded = np.array([char2int[ch] for ch in text])"
      ],
      "execution_count": 0,
      "outputs": []
    },
    {
      "cell_type": "markdown",
      "metadata": {
        "id": "da3avAQ9cX1v",
        "colab_type": "text"
      },
      "source": [
        "And we can see those same characters from above, encoded as integers."
      ]
    },
    {
      "cell_type": "code",
      "metadata": {
        "id": "UdV7H7GOcX1w",
        "colab_type": "code",
        "colab": {
          "base_uri": "https://localhost:8080/",
          "height": 119
        },
        "outputId": "427d5d95-b624-4c3d-c956-e3d8a7aa078b"
      },
      "source": [
        "encoded[:100]"
      ],
      "execution_count": 5,
      "outputs": [
        {
          "output_type": "execute_result",
          "data": {
            "text/plain": [
              "array([37, 74, 51, 23, 49, 39, 68,  3, 40, 41, 41, 41, 67, 51, 23, 23, 42,\n",
              "        3, 72, 51, 73, 29,  4, 29, 39, 80,  3, 51, 68, 39,  3, 51,  4,  4,\n",
              "        3, 51,  4, 29, 20, 39,  5,  3, 39, 16, 39, 68, 42,  3, 69, 48, 74,\n",
              "       51, 23, 23, 42,  3, 72, 51, 73, 29,  4, 42,  3, 29, 80,  3, 69, 48,\n",
              "       74, 51, 23, 23, 42,  3, 29, 48,  3, 29, 49, 80,  3, 54, 22, 48, 41,\n",
              "       22, 51, 42, 56, 41, 41, 13, 16, 39, 68, 42, 49, 74, 29, 48])"
            ]
          },
          "metadata": {
            "tags": []
          },
          "execution_count": 5
        }
      ]
    },
    {
      "cell_type": "markdown",
      "metadata": {
        "id": "QXhzR6ZPcX1z",
        "colab_type": "text"
      },
      "source": [
        "## Pre-processing the data\n",
        "\n",
        "As you can see in our char-RNN image above, our LSTM expects an input that is **one-hot encoded** meaning that each character is converted into an integer (via our created dictionary) and *then* converted into a column vector where only it's corresponding integer index will have the value of 1 and the rest of the vector will be filled with 0's. Since we're one-hot encoding the data, let's make a function to do that!\n"
      ]
    },
    {
      "cell_type": "code",
      "metadata": {
        "id": "ZNa4IKWScX10",
        "colab_type": "code",
        "colab": {}
      },
      "source": [
        "def one_hot_encode(arr, n_labels):\n",
        "    \n",
        "    # Initialize the the encoded array\n",
        "    one_hot = np.zeros((arr.size, n_labels), dtype=np.float32)\n",
        "    \n",
        "    # Fill the appropriate elements with ones\n",
        "    one_hot[np.arange(one_hot.shape[0]), arr.flatten()] = 1.\n",
        "    \n",
        "    # Finally reshape it to get back to the original array\n",
        "    one_hot = one_hot.reshape((*arr.shape, n_labels))\n",
        "    \n",
        "    return one_hot"
      ],
      "execution_count": 0,
      "outputs": []
    },
    {
      "cell_type": "code",
      "metadata": {
        "id": "mzd6WR-HcX12",
        "colab_type": "code",
        "colab": {
          "base_uri": "https://localhost:8080/",
          "height": 68
        },
        "outputId": "347d70a1-c8dd-4c29-8b3b-b35a9cbe4c0b"
      },
      "source": [
        "# check that the function works as expected\n",
        "test_seq = np.array([[3, 5, 1]])\n",
        "one_hot = one_hot_encode(test_seq, 8)\n",
        "\n",
        "print(one_hot)"
      ],
      "execution_count": 7,
      "outputs": [
        {
          "output_type": "stream",
          "text": [
            "[[[0. 0. 0. 1. 0. 0. 0. 0.]\n",
            "  [0. 0. 0. 0. 0. 1. 0. 0.]\n",
            "  [0. 1. 0. 0. 0. 0. 0. 0.]]]\n"
          ],
          "name": "stdout"
        }
      ]
    },
    {
      "cell_type": "markdown",
      "metadata": {
        "id": "RrygTAEgcX15",
        "colab_type": "text"
      },
      "source": [
        "## Making training mini-batches\n",
        "\n",
        "\n",
        "To train on this data, we also want to create mini-batches for training. Remember that we want our batches to be multiple sequences of some desired number of sequence steps. Considering a simple example, our batches would look like this:\n",
        "\n",
        "<img src=\"assets/sequence_batching@1x.png\" width=500px>\n",
        "\n",
        "\n",
        "<br>\n",
        "\n",
        "In this example, we'll take the encoded characters (passed in as the `arr` parameter) and split them into multiple sequences, given by `batch_size`. Each of our sequences will be `seq_length` long.\n",
        "\n",
        "### Creating Batches\n",
        "\n",
        "**1. The first thing we need to do is discard some of the text so we only have completely full mini-batches. **\n",
        "\n",
        "Each batch contains $N \\times M$ characters, where $N$ is the batch size (the number of sequences in a batch) and $M$ is the seq_length or number of time steps in a sequence. Then, to get the total number of batches, $K$, that we can make from the array `arr`, you divide the length of `arr` by the number of characters per batch. Once you know the number of batches, you can get the total number of characters to keep from `arr`, $N * M * K$.\n",
        "\n",
        "**2. After that, we need to split `arr` into $N$ batches. ** \n",
        "\n",
        "You can do this using `arr.reshape(size)` where `size` is a tuple containing the dimensions sizes of the reshaped array. We know we want $N$ sequences in a batch, so let's make that the size of the first dimension. For the second dimension, you can use `-1` as a placeholder in the size, it'll fill up the array with the appropriate data for you. After this, you should have an array that is $N \\times (M * K)$.\n",
        "\n",
        "**3. Now that we have this array, we can iterate through it to get our mini-batches. **\n",
        "\n",
        "The idea is each batch is a $N \\times M$ window on the $N \\times (M * K)$ array. For each subsequent batch, the window moves over by `seq_length`. We also want to create both the input and target arrays. Remember that the targets are just the inputs shifted over by one character. The way I like to do this window is use `range` to take steps of size `n_steps` from $0$ to `arr.shape[1]`, the total number of tokens in each sequence. That way, the integers you get from `range` always point to the start of a batch, and each window is `seq_length` wide.\n",
        "\n",
        "> **TODO:** Write the code for creating batches in the function below. The exercises in this notebook _will not be easy_. I've provided a notebook with solutions alongside this notebook. If you get stuck, checkout the solutions. The most important thing is that you don't copy and paste the code into here, **type out the solution code yourself.**"
      ]
    },
    {
      "cell_type": "code",
      "metadata": {
        "id": "2_BdKhD9cX15",
        "colab_type": "code",
        "colab": {}
      },
      "source": [
        "def get_batches(arr, batch_size, seq_length):\n",
        "    '''Create a generator that returns batches of size\n",
        "       batch_size x seq_length from arr.\n",
        "       \n",
        "       Arguments\n",
        "       ---------\n",
        "       arr: Array you want to make batches from\n",
        "       batch_size: Batch size, the number of sequences per batch\n",
        "       seq_length: Number of encoded chars in a sequence\n",
        "    '''\n",
        "    \n",
        "    ## TODO: Get the number of batches we can make\n",
        "    total_batch_size = batch_size * seq_length\n",
        "    n_batches = len(arr) // total_batch_size\n",
        "    \n",
        "    ## TODO: Keep only enough characters to make full batches\n",
        "    arr = arr[:total_batch_size*n_batches]\n",
        "\n",
        "    ## TODO: Reshape into batch_size rows\n",
        "    arr = arr.reshape((batch_size, -1))\n",
        "\n",
        "    ### arr.shape = 8 * 248150 \n",
        "    # [[0_0, 0_1, 0_2, ... 0_248149], \n",
        "    #  [1_0, 1_1, 1_2, ...]\n",
        "    #  ...\n",
        "    #  [7_0, 7_1, 7_2, ...]]\n",
        "    \n",
        "    ### seperate arr into mini_batch --> \n",
        "    # [[0_0, 0_1, 0_2, ... 0_19], \n",
        "    #  [1_0, 1_1, 1_2, ... 1_19]\n",
        "    #  ...\n",
        "    #  [7_0, 7_1, 7_2, ... 7_19]]\n",
        "    \n",
        "    \n",
        "    # TODO: Iterate over the batches using a window of size seq_length\n",
        "    for n in range(0, arr.shape[1], seq_length):\n",
        "        # The features\n",
        "        x = arr[:, n:n+seq_length]\n",
        "        # The targets, shifted by one 直接複製x的形狀 with 0\n",
        "        y = np.zeros_like(x)\n",
        "\n",
        "        # y t= x (t+1)\n",
        "        try:\n",
        "          y[:, -1], y[:, :-1] = x[:, n+seq_length], x[:, 1:] # 最後一個y值為下一組第一個\n",
        "        except IndexError:\n",
        "          y[:, -1], y[:, :-1] = x[:, 0], x[:, 1:] # 最後一組x沒有下一組y\n",
        "        yield x, y"
      ],
      "execution_count": 0,
      "outputs": []
    },
    {
      "cell_type": "markdown",
      "metadata": {
        "id": "kPvSA3vpcX19",
        "colab_type": "text"
      },
      "source": [
        "### Test Your Implementation\n",
        "\n",
        "Now I'll make some data sets and we can check out what's going on as we batch data. Here, as an example, I'm going to use a batch size of 8 and 50 sequence steps."
      ]
    },
    {
      "cell_type": "code",
      "metadata": {
        "id": "djeISCnwcX1_",
        "colab_type": "code",
        "colab": {}
      },
      "source": [
        "batches = get_batches(encoded, 8, 50)\n",
        "x, y = next(batches)"
      ],
      "execution_count": 0,
      "outputs": []
    },
    {
      "cell_type": "code",
      "metadata": {
        "id": "v4LZtIY-cX2B",
        "colab_type": "code",
        "colab": {
          "base_uri": "https://localhost:8080/",
          "height": 340
        },
        "outputId": "1644a08e-24a5-4de3-916e-563ebb6c37da"
      },
      "source": [
        "# printing out the first 10 items in a sequence\n",
        "print('x\\n', x[:10, :10])\n",
        "print('\\ny\\n', y[:10, :10])"
      ],
      "execution_count": 10,
      "outputs": [
        {
          "output_type": "stream",
          "text": [
            "x\n",
            " [[37 74 51 23 49 39 68  3 40 41]\n",
            " [80 54 48  3 49 74 51 49  3 51]\n",
            " [39 48 62  3 54 68  3 51  3 72]\n",
            " [80  3 49 74 39  3 32 74 29 39]\n",
            " [ 3 80 51 22  3 74 39 68  3 49]\n",
            " [32 69 80 80 29 54 48  3 51 48]\n",
            " [ 3 38 48 48 51  3 74 51 62  3]\n",
            " [ 1 33  4 54 48 80 20 42 56  3]]\n",
            "\n",
            "y\n",
            " [[74 51 23 49 39 68  3 40 41 41]\n",
            " [54 48  3 49 74 51 49  3 51 49]\n",
            " [48 62  3 54 68  3 51  3 72 54]\n",
            " [ 3 49 74 39  3 32 74 29 39 72]\n",
            " [80 51 22  3 74 39 68  3 49 39]\n",
            " [69 80 80 29 54 48  3 51 48 62]\n",
            " [38 48 48 51  3 74 51 62  3 80]\n",
            " [33  4 54 48 80 20 42 56  3 44]]\n"
          ],
          "name": "stdout"
        }
      ]
    },
    {
      "cell_type": "markdown",
      "metadata": {
        "id": "Btn-j83qcX2C",
        "colab_type": "text"
      },
      "source": [
        "If you implemented `get_batches` correctly, the above output should look something like \n",
        "```\n",
        "x\n",
        " [[25  8 60 11 45 27 28 73  1  2]\n",
        " [17  7 20 73 45  8 60 45 73 60]\n",
        " [27 20 80 73  7 28 73 60 73 65]\n",
        " [17 73 45  8 27 73 66  8 46 27]\n",
        " [73 17 60 12 73  8 27 28 73 45]\n",
        " [66 64 17 17 46  7 20 73 60 20]\n",
        " [73 76 20 20 60 73  8 60 80 73]\n",
        " [47 35 43  7 20 17 24 50 37 73]]\n",
        "\n",
        "y\n",
        " [[ 8 60 11 45 27 28 73  1  2  2]\n",
        " [ 7 20 73 45  8 60 45 73 60 45]\n",
        " [20 80 73  7 28 73 60 73 65  7]\n",
        " [73 45  8 27 73 66  8 46 27 65]\n",
        " [17 60 12 73  8 27 28 73 45 27]\n",
        " [64 17 17 46  7 20 73 60 20 80]\n",
        " [76 20 20 60 73  8 60 80 73 17]\n",
        " [35 43  7 20 17 24 50 37 73 36]]\n",
        " ```\n",
        " although the exact numbers may be different. Check to make sure the data is shifted over one step for `y`."
      ]
    },
    {
      "cell_type": "markdown",
      "metadata": {
        "id": "pQ5KP8p-cX2D",
        "colab_type": "text"
      },
      "source": [
        "---\n",
        "## Defining the network with PyTorch\n",
        "\n",
        "Below is where you'll define the network.\n",
        "\n",
        "<img src=\"assets/charRNN.png\" width=500px>\n",
        "\n",
        "Next, you'll use PyTorch to define the architecture of the network. We start by defining the layers and operations we want. Then, define a method for the forward pass. You've also been given a method for predicting characters."
      ]
    },
    {
      "cell_type": "markdown",
      "metadata": {
        "id": "O9MZ5wvqcX2D",
        "colab_type": "text"
      },
      "source": [
        "### Model Structure\n",
        "\n",
        "In `__init__` the suggested structure is as follows:\n",
        "* Create and store the necessary dictionaries (this has been done for you)\n",
        "* Define an LSTM layer that takes as params: an input size (the number of characters), a hidden layer size `n_hidden`, a number of layers `n_layers`, a dropout probability `drop_prob`, and a batch_first boolean (True, since we are batching)\n",
        "* Define a dropout layer with `drop_prob`\n",
        "* Define a fully-connected layer with params: input size `n_hidden` and output size (the number of characters)\n",
        "* Finally, initialize the weights (again, this has been given)\n",
        "\n",
        "Note that some parameters have been named and given in the `__init__` function, and we use them and store them by doing something like `self.drop_prob = drop_prob`."
      ]
    },
    {
      "cell_type": "markdown",
      "metadata": {
        "id": "aOXWPlVBcX2D",
        "colab_type": "text"
      },
      "source": [
        "---\n",
        "### LSTM Inputs/Outputs\n",
        "\n",
        "You can create a basic [LSTM layer](https://pytorch.org/docs/stable/nn.html#lstm) as follows\n",
        "\n",
        "```python\n",
        "self.lstm = nn.LSTM(input_size, n_hidden, n_layers, \n",
        "                            dropout=drop_prob, batch_first=True)\n",
        "```\n",
        "\n",
        "where `input_size` is the number of characters this cell expects to see as sequential input, and `n_hidden` is the number of units in the hidden layers in the cell. And we can add dropout by adding a dropout parameter with a specified probability; this will automatically add dropout to the inputs or outputs. Finally, in the `forward` function, we can stack up the LSTM cells into layers using `.view`. With this, you pass in a list of cells and it will send the output of one cell into the next cell.\n",
        "\n",
        "We also need to create an initial hidden state of all zeros. This is done like so\n",
        "\n",
        "```python\n",
        "self.init_hidden()\n",
        "```"
      ]
    },
    {
      "cell_type": "code",
      "metadata": {
        "id": "bvpcjPpycX2E",
        "colab_type": "code",
        "colab": {
          "base_uri": "https://localhost:8080/",
          "height": 34
        },
        "outputId": "67a4b62a-f549-4379-b111-0229e4f33958"
      },
      "source": [
        "# check if GPU is available\n",
        "train_on_gpu = torch.cuda.is_available()\n",
        "if(train_on_gpu):\n",
        "    print('Training on GPU!')\n",
        "else: \n",
        "    print('No GPU available, training on CPU; consider making n_epochs very small.')"
      ],
      "execution_count": 11,
      "outputs": [
        {
          "output_type": "stream",
          "text": [
            "Training on GPU!\n"
          ],
          "name": "stdout"
        }
      ]
    },
    {
      "cell_type": "code",
      "metadata": {
        "id": "oE27HA13cX2F",
        "colab_type": "code",
        "colab": {}
      },
      "source": [
        "class CharRNN(nn.Module):\n",
        "    \n",
        "    def __init__(self, tokens, n_hidden=256, n_layers=2,\n",
        "                               drop_prob=0.5, lr=0.001):\n",
        "        super().__init__()\n",
        "        self.drop_prob = drop_prob\n",
        "        self.n_layers = n_layers\n",
        "        self.n_hidden = n_hidden\n",
        "        self.lr = lr\n",
        "        \n",
        "        # creating character dictionaries\n",
        "        self.chars = tokens\n",
        "        self.int2char = dict(enumerate(self.chars))\n",
        "        self.char2int = {ch: ii for ii, ch in self.int2char.items()}\n",
        "        \n",
        "        ## TODO: define the LSTM\n",
        "        self.lstm = nn.LSTM(len(self.chars), n_hidden, n_layers, \n",
        "                            dropout=drop_prob, batch_first=True)\n",
        "        \n",
        "        ## TODO: define a dropout layer\n",
        "        self.dropout = nn.Dropout(drop_prob)\n",
        "        \n",
        "        ## TODO: define the final, fully-connected output layer\n",
        "        self.fc = nn.Linear(n_hidden, len(self.chars))\n",
        "      \n",
        "    \n",
        "    def forward(self, x, hidden):\n",
        "        ''' Forward pass through the network. \n",
        "            These inputs are x, and the hidden/cell state `hidden`. '''\n",
        "                \n",
        "        ## TODO: Get the outputs and the new hidden state from the lstm\n",
        "        r_output, hidden = self.lstm(x, hidden)\n",
        "        \n",
        "        ## TODO: pass through a dropout layer\n",
        "        out = self.dropout(r_output)\n",
        "        \n",
        "        # Stack up LSTM outputs using view\n",
        "        # you may need to use contiguous to reshape the output\n",
        "        out = out.contiguous().view(-1, self.n_hidden)\n",
        "        \n",
        "        ## TODO: put x through the fully-connected layer\n",
        "        out = self.fc(out)\n",
        "        \n",
        "        # return the final output and the hidden state\n",
        "        return out, hidden\n",
        "    \n",
        "    \n",
        "    def init_hidden(self, batch_size):\n",
        "        ''' Initializes hidden state '''\n",
        "        # Create two new tensors with sizes n_layers x batch_size x n_hidden,\n",
        "        # initialized to zero, for hidden state and cell state of LSTM\n",
        "        weight = next(self.parameters()).data\n",
        "        \n",
        "        if (train_on_gpu):\n",
        "            hidden = (weight.new(self.n_layers, batch_size, self.n_hidden).zero_().cuda(),\n",
        "                  weight.new(self.n_layers, batch_size, self.n_hidden).zero_().cuda())\n",
        "        else:\n",
        "            hidden = (weight.new(self.n_layers, batch_size, self.n_hidden).zero_(),\n",
        "                      weight.new(self.n_layers, batch_size, self.n_hidden).zero_())\n",
        "        \n",
        "        return hidden"
      ],
      "execution_count": 0,
      "outputs": []
    },
    {
      "cell_type": "markdown",
      "metadata": {
        "id": "WDsKCV1CcX2G",
        "colab_type": "text"
      },
      "source": [
        "## Time to train\n",
        "\n",
        "The train function gives us the ability to set the number of epochs, the learning rate, and other parameters.\n",
        "\n",
        "Below we're using an Adam optimizer and cross entropy loss since we are looking at character class scores as output. We calculate the loss and perform backpropagation, as usual!\n",
        "\n",
        "A couple of details about training: \n",
        ">* Within the batch loop, we detach the hidden state from its history; this time setting it equal to a new *tuple* variable because an LSTM has a hidden state that is a tuple of the hidden and cell states.\n",
        "* We use [`clip_grad_norm_`](https://pytorch.org/docs/stable/_modules/torch/nn/utils/clip_grad.html) to help prevent exploding gradients."
      ]
    },
    {
      "cell_type": "code",
      "metadata": {
        "id": "sipDM5kMcX2H",
        "colab_type": "code",
        "colab": {}
      },
      "source": [
        "def train(net, data, epochs=10, batch_size=10, seq_length=50, lr=0.001, clip=5, val_frac=0.1, print_every=10):\n",
        "    ''' Training a network \n",
        "    \n",
        "        Arguments\n",
        "        ---------\n",
        "        \n",
        "        net: CharRNN network\n",
        "        data: text data to train the network\n",
        "        epochs: Number of epochs to train\n",
        "        batch_size: Number of mini-sequences per mini-batch, aka batch size\n",
        "        seq_length: Number of character steps per mini-batch\n",
        "        lr: learning rate\n",
        "        clip: gradient clipping\n",
        "        val_frac: Fraction of data to hold out for validation\n",
        "        print_every: Number of steps for printing training and validation loss\n",
        "    \n",
        "    '''\n",
        "    net.train()\n",
        "    \n",
        "    opt = torch.optim.Adam(net.parameters(), lr=lr)\n",
        "    criterion = nn.CrossEntropyLoss()\n",
        "    \n",
        "    # create training and validation data\n",
        "    val_idx = int(len(data)*(1-val_frac))\n",
        "    data, val_data = data[:val_idx], data[val_idx:]\n",
        "    \n",
        "    if(train_on_gpu):\n",
        "        net.cuda()\n",
        "    \n",
        "    counter = 0\n",
        "    n_chars = len(net.chars)\n",
        "    for e in range(epochs):\n",
        "        # initialize hidden state\n",
        "        h = net.init_hidden(batch_size)\n",
        "        \n",
        "        for x, y in get_batches(data, batch_size, seq_length):\n",
        "            counter += 1\n",
        "            \n",
        "            # One-hot encode our data and make them Torch tensors\n",
        "            x = one_hot_encode(x, n_chars)\n",
        "            inputs, targets = torch.from_numpy(x), torch.from_numpy(y)\n",
        "            \n",
        "            if(train_on_gpu):\n",
        "                inputs, targets = inputs.cuda(), targets.cuda()\n",
        "\n",
        "            # Creating new variables for the hidden state, otherwise\n",
        "            # we'd backprop through the entire training history\n",
        "            h = tuple([each.data for each in h])\n",
        "\n",
        "            # zero accumulated gradients\n",
        "            net.zero_grad()\n",
        "            \n",
        "            # get the output from the model\n",
        "            output, h = net(inputs, h)\n",
        "            \n",
        "            # calculate the loss and perform backprop\n",
        "            loss = criterion(output, targets.view(batch_size*seq_length).long())\n",
        "            loss.backward()\n",
        "            # `clip_grad_norm` helps prevent the exploding gradient problem in RNNs / LSTMs.\n",
        "            nn.utils.clip_grad_norm_(net.parameters(), clip)\n",
        "            opt.step()\n",
        "            \n",
        "            # loss stats\n",
        "            if counter % print_every == 0:\n",
        "                # Get validation loss\n",
        "                val_h = net.init_hidden(batch_size)\n",
        "                val_losses = []\n",
        "                net.eval()\n",
        "                for x, y in get_batches(val_data, batch_size, seq_length):\n",
        "                    # One-hot encode our data and make them Torch tensors\n",
        "                    x = one_hot_encode(x, n_chars)\n",
        "                    x, y = torch.from_numpy(x), torch.from_numpy(y)\n",
        "                    \n",
        "                    # Creating new variables for the hidden state, otherwise\n",
        "                    # we'd backprop through the entire training history\n",
        "                    val_h = tuple([each.data for each in val_h])\n",
        "                    \n",
        "                    inputs, targets = x, y\n",
        "                    if(train_on_gpu):\n",
        "                        inputs, targets = inputs.cuda(), targets.cuda()\n",
        "\n",
        "                    output, val_h = net(inputs, val_h)\n",
        "                    val_loss = criterion(output, targets.view(batch_size*seq_length).long())\n",
        "                \n",
        "                    val_losses.append(val_loss.item())\n",
        "                \n",
        "                net.train() # reset to train mode after iterationg through validation data\n",
        "                \n",
        "                print(\"Epoch: {}/{}...\".format(e+1, epochs),\n",
        "                      \"Step: {}...\".format(counter),\n",
        "                      \"Loss: {:.4f}...\".format(loss.item()),\n",
        "                      \"Val Loss: {:.4f}\".format(np.mean(val_losses)))"
      ],
      "execution_count": 0,
      "outputs": []
    },
    {
      "cell_type": "markdown",
      "metadata": {
        "id": "7qd0zolkcX2M",
        "colab_type": "text"
      },
      "source": [
        "## Instantiating the model\n",
        "\n",
        "Now we can actually train the network. First we'll create the network itself, with some given hyperparameters. Then, define the mini-batches sizes, and start training!"
      ]
    },
    {
      "cell_type": "code",
      "metadata": {
        "id": "RSbAxHL1cX2N",
        "colab_type": "code",
        "colab": {
          "base_uri": "https://localhost:8080/",
          "height": 102
        },
        "outputId": "34974cf1-13ce-4369-ea35-14cdd05c58f6"
      },
      "source": [
        "## TODO: set your model hyperparameters\n",
        "# define and print the net\n",
        "n_hidden = 512\n",
        "n_layers = 2\n",
        "\n",
        "net = CharRNN(chars, n_hidden, n_layers)\n",
        "print(net)"
      ],
      "execution_count": 29,
      "outputs": [
        {
          "output_type": "stream",
          "text": [
            "CharRNN(\n",
            "  (lstm): LSTM(83, 512, num_layers=2, batch_first=True, dropout=0.5)\n",
            "  (dropout): Dropout(p=0.5, inplace=False)\n",
            "  (fc): Linear(in_features=512, out_features=83, bias=True)\n",
            ")\n"
          ],
          "name": "stdout"
        }
      ]
    },
    {
      "cell_type": "markdown",
      "metadata": {
        "id": "-6kSxgCocX2P",
        "colab_type": "text"
      },
      "source": [
        "### Set your training hyperparameters!"
      ]
    },
    {
      "cell_type": "code",
      "metadata": {
        "scrolled": true,
        "id": "uLiMKD68cX2P",
        "colab_type": "code",
        "colab": {
          "base_uri": "https://localhost:8080/",
          "height": 1000
        },
        "outputId": "f8c86278-f5c3-455b-d34e-f9f880f632c7"
      },
      "source": [
        "batch_size = 128\n",
        "seq_length = 100\n",
        "n_epochs =  20 # start small if you are just testing initial behavior\n",
        "\n",
        "# train the model\n",
        "train(net, encoded, epochs=n_epochs, batch_size=batch_size, seq_length=seq_length, lr=0.001, print_every=10)"
      ],
      "execution_count": 30,
      "outputs": [
        {
          "output_type": "stream",
          "text": [
            "Epoch: 1/20... Step: 10... Loss: 3.2755... Val Loss: 3.2028\n",
            "Epoch: 1/20... Step: 20... Loss: 3.1480... Val Loss: 3.1312\n",
            "Epoch: 1/20... Step: 30... Loss: 3.1375... Val Loss: 3.1212\n",
            "Epoch: 1/20... Step: 40... Loss: 3.1127... Val Loss: 3.1194\n",
            "Epoch: 1/20... Step: 50... Loss: 3.1430... Val Loss: 3.1177\n",
            "Epoch: 1/20... Step: 60... Loss: 3.1169... Val Loss: 3.1153\n",
            "Epoch: 1/20... Step: 70... Loss: 3.1092... Val Loss: 3.1138\n",
            "Epoch: 1/20... Step: 80... Loss: 3.1241... Val Loss: 3.1086\n",
            "Epoch: 1/20... Step: 90... Loss: 3.1108... Val Loss: 3.0954\n",
            "Epoch: 1/20... Step: 100... Loss: 3.0763... Val Loss: 3.0682\n",
            "Epoch: 1/20... Step: 110... Loss: 3.0086... Val Loss: 2.9837\n",
            "Epoch: 1/20... Step: 120... Loss: 2.8970... Val Loss: 2.8822\n",
            "Epoch: 1/20... Step: 130... Loss: 2.8976... Val Loss: 2.8702\n",
            "Epoch: 2/20... Step: 140... Loss: 2.8258... Val Loss: 2.7792\n",
            "Epoch: 2/20... Step: 150... Loss: 2.7035... Val Loss: 2.6558\n",
            "Epoch: 2/20... Step: 160... Loss: 2.6034... Val Loss: 2.5703\n",
            "Epoch: 2/20... Step: 170... Loss: 2.5355... Val Loss: 2.5159\n",
            "Epoch: 2/20... Step: 180... Loss: 2.5022... Val Loss: 2.4783\n",
            "Epoch: 2/20... Step: 190... Loss: 2.4520... Val Loss: 2.4398\n",
            "Epoch: 2/20... Step: 200... Loss: 2.4369... Val Loss: 2.4080\n",
            "Epoch: 2/20... Step: 210... Loss: 2.4042... Val Loss: 2.3756\n",
            "Epoch: 2/20... Step: 220... Loss: 2.3715... Val Loss: 2.3517\n",
            "Epoch: 2/20... Step: 230... Loss: 2.3545... Val Loss: 2.3195\n",
            "Epoch: 2/20... Step: 240... Loss: 2.3382... Val Loss: 2.2929\n",
            "Epoch: 2/20... Step: 250... Loss: 2.2718... Val Loss: 2.2695\n",
            "Epoch: 2/20... Step: 260... Loss: 2.2463... Val Loss: 2.2394\n",
            "Epoch: 2/20... Step: 270... Loss: 2.2472... Val Loss: 2.2125\n",
            "Epoch: 3/20... Step: 280... Loss: 2.2456... Val Loss: 2.1938\n",
            "Epoch: 3/20... Step: 290... Loss: 2.2153... Val Loss: 2.1669\n",
            "Epoch: 3/20... Step: 300... Loss: 2.1859... Val Loss: 2.1462\n",
            "Epoch: 3/20... Step: 310... Loss: 2.1629... Val Loss: 2.1268\n",
            "Epoch: 3/20... Step: 320... Loss: 2.1273... Val Loss: 2.1067\n",
            "Epoch: 3/20... Step: 330... Loss: 2.0945... Val Loss: 2.0902\n",
            "Epoch: 3/20... Step: 340... Loss: 2.1120... Val Loss: 2.0729\n",
            "Epoch: 3/20... Step: 350... Loss: 2.0998... Val Loss: 2.0498\n",
            "Epoch: 3/20... Step: 360... Loss: 2.0303... Val Loss: 2.0337\n",
            "Epoch: 3/20... Step: 370... Loss: 2.0511... Val Loss: 2.0206\n",
            "Epoch: 3/20... Step: 380... Loss: 2.0318... Val Loss: 2.0017\n",
            "Epoch: 3/20... Step: 390... Loss: 1.9931... Val Loss: 1.9887\n",
            "Epoch: 3/20... Step: 400... Loss: 1.9704... Val Loss: 1.9666\n",
            "Epoch: 3/20... Step: 410... Loss: 1.9923... Val Loss: 1.9539\n",
            "Epoch: 4/20... Step: 420... Loss: 1.9683... Val Loss: 1.9385\n",
            "Epoch: 4/20... Step: 430... Loss: 1.9548... Val Loss: 1.9234\n",
            "Epoch: 4/20... Step: 440... Loss: 1.9523... Val Loss: 1.9158\n",
            "Epoch: 4/20... Step: 450... Loss: 1.8788... Val Loss: 1.8982\n",
            "Epoch: 4/20... Step: 460... Loss: 1.8761... Val Loss: 1.8847\n",
            "Epoch: 4/20... Step: 470... Loss: 1.9081... Val Loss: 1.8772\n",
            "Epoch: 4/20... Step: 480... Loss: 1.8788... Val Loss: 1.8635\n",
            "Epoch: 4/20... Step: 490... Loss: 1.8892... Val Loss: 1.8505\n",
            "Epoch: 4/20... Step: 500... Loss: 1.8855... Val Loss: 1.8402\n",
            "Epoch: 4/20... Step: 510... Loss: 1.8589... Val Loss: 1.8279\n",
            "Epoch: 4/20... Step: 520... Loss: 1.8684... Val Loss: 1.8179\n",
            "Epoch: 4/20... Step: 530... Loss: 1.8324... Val Loss: 1.8091\n",
            "Epoch: 4/20... Step: 540... Loss: 1.7989... Val Loss: 1.7985\n",
            "Epoch: 4/20... Step: 550... Loss: 1.8420... Val Loss: 1.7863\n",
            "Epoch: 5/20... Step: 560... Loss: 1.7997... Val Loss: 1.7778\n",
            "Epoch: 5/20... Step: 570... Loss: 1.8014... Val Loss: 1.7724\n",
            "Epoch: 5/20... Step: 580... Loss: 1.7703... Val Loss: 1.7591\n",
            "Epoch: 5/20... Step: 590... Loss: 1.7678... Val Loss: 1.7492\n",
            "Epoch: 5/20... Step: 600... Loss: 1.7654... Val Loss: 1.7444\n",
            "Epoch: 5/20... Step: 610... Loss: 1.7461... Val Loss: 1.7367\n",
            "Epoch: 5/20... Step: 620... Loss: 1.7422... Val Loss: 1.7304\n",
            "Epoch: 5/20... Step: 630... Loss: 1.7673... Val Loss: 1.7214\n",
            "Epoch: 5/20... Step: 640... Loss: 1.7320... Val Loss: 1.7144\n",
            "Epoch: 5/20... Step: 650... Loss: 1.7222... Val Loss: 1.7070\n",
            "Epoch: 5/20... Step: 660... Loss: 1.6935... Val Loss: 1.7004\n",
            "Epoch: 5/20... Step: 670... Loss: 1.7267... Val Loss: 1.6968\n",
            "Epoch: 5/20... Step: 680... Loss: 1.7191... Val Loss: 1.6911\n",
            "Epoch: 5/20... Step: 690... Loss: 1.6935... Val Loss: 1.6800\n",
            "Epoch: 6/20... Step: 700... Loss: 1.6961... Val Loss: 1.6724\n",
            "Epoch: 6/20... Step: 710... Loss: 1.6910... Val Loss: 1.6726\n",
            "Epoch: 6/20... Step: 720... Loss: 1.6825... Val Loss: 1.6613\n",
            "Epoch: 6/20... Step: 730... Loss: 1.6953... Val Loss: 1.6595\n",
            "Epoch: 6/20... Step: 740... Loss: 1.6608... Val Loss: 1.6532\n",
            "Epoch: 6/20... Step: 750... Loss: 1.6407... Val Loss: 1.6462\n",
            "Epoch: 6/20... Step: 760... Loss: 1.6738... Val Loss: 1.6404\n",
            "Epoch: 6/20... Step: 770... Loss: 1.6636... Val Loss: 1.6394\n",
            "Epoch: 6/20... Step: 780... Loss: 1.6425... Val Loss: 1.6324\n",
            "Epoch: 6/20... Step: 790... Loss: 1.6296... Val Loss: 1.6239\n",
            "Epoch: 6/20... Step: 800... Loss: 1.6446... Val Loss: 1.6205\n",
            "Epoch: 6/20... Step: 810... Loss: 1.6268... Val Loss: 1.6156\n",
            "Epoch: 6/20... Step: 820... Loss: 1.6010... Val Loss: 1.6130\n",
            "Epoch: 6/20... Step: 830... Loss: 1.6436... Val Loss: 1.6098\n",
            "Epoch: 7/20... Step: 840... Loss: 1.5899... Val Loss: 1.6042\n",
            "Epoch: 7/20... Step: 850... Loss: 1.6120... Val Loss: 1.6003\n",
            "Epoch: 7/20... Step: 860... Loss: 1.5894... Val Loss: 1.5925\n",
            "Epoch: 7/20... Step: 870... Loss: 1.6121... Val Loss: 1.5881\n",
            "Epoch: 7/20... Step: 880... Loss: 1.5997... Val Loss: 1.5877\n",
            "Epoch: 7/20... Step: 890... Loss: 1.5959... Val Loss: 1.5853\n",
            "Epoch: 7/20... Step: 900... Loss: 1.5803... Val Loss: 1.5804\n",
            "Epoch: 7/20... Step: 910... Loss: 1.5613... Val Loss: 1.5771\n",
            "Epoch: 7/20... Step: 920... Loss: 1.5821... Val Loss: 1.5741\n",
            "Epoch: 7/20... Step: 930... Loss: 1.5614... Val Loss: 1.5651\n",
            "Epoch: 7/20... Step: 940... Loss: 1.5701... Val Loss: 1.5636\n",
            "Epoch: 7/20... Step: 950... Loss: 1.5817... Val Loss: 1.5586\n",
            "Epoch: 7/20... Step: 960... Loss: 1.5712... Val Loss: 1.5571\n",
            "Epoch: 7/20... Step: 970... Loss: 1.5873... Val Loss: 1.5516\n",
            "Epoch: 8/20... Step: 980... Loss: 1.5518... Val Loss: 1.5486\n",
            "Epoch: 8/20... Step: 990... Loss: 1.5587... Val Loss: 1.5453\n",
            "Epoch: 8/20... Step: 1000... Loss: 1.5490... Val Loss: 1.5427\n",
            "Epoch: 8/20... Step: 1010... Loss: 1.5802... Val Loss: 1.5385\n",
            "Epoch: 8/20... Step: 1020... Loss: 1.5652... Val Loss: 1.5365\n",
            "Epoch: 8/20... Step: 1030... Loss: 1.5436... Val Loss: 1.5315\n",
            "Epoch: 8/20... Step: 1040... Loss: 1.5381... Val Loss: 1.5344\n",
            "Epoch: 8/20... Step: 1050... Loss: 1.5233... Val Loss: 1.5282\n",
            "Epoch: 8/20... Step: 1060... Loss: 1.5360... Val Loss: 1.5253\n",
            "Epoch: 8/20... Step: 1070... Loss: 1.5293... Val Loss: 1.5186\n",
            "Epoch: 8/20... Step: 1080... Loss: 1.5355... Val Loss: 1.5212\n",
            "Epoch: 8/20... Step: 1090... Loss: 1.5117... Val Loss: 1.5136\n",
            "Epoch: 8/20... Step: 1100... Loss: 1.5091... Val Loss: 1.5141\n",
            "Epoch: 8/20... Step: 1110... Loss: 1.5097... Val Loss: 1.5093\n",
            "Epoch: 9/20... Step: 1120... Loss: 1.5240... Val Loss: 1.5063\n",
            "Epoch: 9/20... Step: 1130... Loss: 1.5123... Val Loss: 1.5045\n",
            "Epoch: 9/20... Step: 1140... Loss: 1.5275... Val Loss: 1.4994\n",
            "Epoch: 9/20... Step: 1150... Loss: 1.5317... Val Loss: 1.4987\n",
            "Epoch: 9/20... Step: 1160... Loss: 1.4892... Val Loss: 1.5022\n",
            "Epoch: 9/20... Step: 1170... Loss: 1.5005... Val Loss: 1.4947\n",
            "Epoch: 9/20... Step: 1180... Loss: 1.4927... Val Loss: 1.4938\n",
            "Epoch: 9/20... Step: 1190... Loss: 1.5307... Val Loss: 1.4919\n",
            "Epoch: 9/20... Step: 1200... Loss: 1.4703... Val Loss: 1.4930\n",
            "Epoch: 9/20... Step: 1210... Loss: 1.4834... Val Loss: 1.4863\n",
            "Epoch: 9/20... Step: 1220... Loss: 1.4848... Val Loss: 1.4863\n",
            "Epoch: 9/20... Step: 1230... Loss: 1.4629... Val Loss: 1.4807\n",
            "Epoch: 9/20... Step: 1240... Loss: 1.4701... Val Loss: 1.4827\n",
            "Epoch: 9/20... Step: 1250... Loss: 1.4870... Val Loss: 1.4762\n",
            "Epoch: 10/20... Step: 1260... Loss: 1.4977... Val Loss: 1.4759\n",
            "Epoch: 10/20... Step: 1270... Loss: 1.4734... Val Loss: 1.4735\n",
            "Epoch: 10/20... Step: 1280... Loss: 1.4917... Val Loss: 1.4726\n",
            "Epoch: 10/20... Step: 1290... Loss: 1.4768... Val Loss: 1.4715\n",
            "Epoch: 10/20... Step: 1300... Loss: 1.4612... Val Loss: 1.4691\n",
            "Epoch: 10/20... Step: 1310... Loss: 1.4730... Val Loss: 1.4675\n",
            "Epoch: 10/20... Step: 1320... Loss: 1.4437... Val Loss: 1.4652\n",
            "Epoch: 10/20... Step: 1330... Loss: 1.4545... Val Loss: 1.4616\n",
            "Epoch: 10/20... Step: 1340... Loss: 1.4370... Val Loss: 1.4595\n",
            "Epoch: 10/20... Step: 1350... Loss: 1.4248... Val Loss: 1.4585\n",
            "Epoch: 10/20... Step: 1360... Loss: 1.4435... Val Loss: 1.4591\n",
            "Epoch: 10/20... Step: 1370... Loss: 1.4171... Val Loss: 1.4563\n",
            "Epoch: 10/20... Step: 1380... Loss: 1.4653... Val Loss: 1.4595\n",
            "Epoch: 10/20... Step: 1390... Loss: 1.4180... Val Loss: 1.4506\n",
            "Epoch: 11/20... Step: 1400... Loss: 1.4710... Val Loss: 1.4475\n",
            "Epoch: 11/20... Step: 1410... Loss: 1.4830... Val Loss: 1.4450\n",
            "Epoch: 11/20... Step: 1420... Loss: 1.4718... Val Loss: 1.4465\n",
            "Epoch: 11/20... Step: 1430... Loss: 1.4386... Val Loss: 1.4461\n",
            "Epoch: 11/20... Step: 1440... Loss: 1.4591... Val Loss: 1.4427\n",
            "Epoch: 11/20... Step: 1450... Loss: 1.3892... Val Loss: 1.4436\n",
            "Epoch: 11/20... Step: 1460... Loss: 1.4271... Val Loss: 1.4391\n",
            "Epoch: 11/20... Step: 1470... Loss: 1.4203... Val Loss: 1.4385\n",
            "Epoch: 11/20... Step: 1480... Loss: 1.4272... Val Loss: 1.4375\n",
            "Epoch: 11/20... Step: 1490... Loss: 1.4283... Val Loss: 1.4360\n",
            "Epoch: 11/20... Step: 1500... Loss: 1.4112... Val Loss: 1.4336\n",
            "Epoch: 11/20... Step: 1510... Loss: 1.4002... Val Loss: 1.4316\n",
            "Epoch: 11/20... Step: 1520... Loss: 1.4236... Val Loss: 1.4325\n",
            "Epoch: 12/20... Step: 1530... Loss: 1.4863... Val Loss: 1.4338\n",
            "Epoch: 12/20... Step: 1540... Loss: 1.4306... Val Loss: 1.4267\n",
            "Epoch: 12/20... Step: 1550... Loss: 1.4353... Val Loss: 1.4245\n",
            "Epoch: 12/20... Step: 1560... Loss: 1.4549... Val Loss: 1.4222\n",
            "Epoch: 12/20... Step: 1570... Loss: 1.4016... Val Loss: 1.4225\n",
            "Epoch: 12/20... Step: 1580... Loss: 1.3842... Val Loss: 1.4225\n",
            "Epoch: 12/20... Step: 1590... Loss: 1.3770... Val Loss: 1.4218\n",
            "Epoch: 12/20... Step: 1600... Loss: 1.3967... Val Loss: 1.4204\n",
            "Epoch: 12/20... Step: 1610... Loss: 1.3847... Val Loss: 1.4242\n",
            "Epoch: 12/20... Step: 1620... Loss: 1.3910... Val Loss: 1.4195\n",
            "Epoch: 12/20... Step: 1630... Loss: 1.4092... Val Loss: 1.4186\n",
            "Epoch: 12/20... Step: 1640... Loss: 1.3898... Val Loss: 1.4161\n",
            "Epoch: 12/20... Step: 1650... Loss: 1.3631... Val Loss: 1.4184\n",
            "Epoch: 12/20... Step: 1660... Loss: 1.4226... Val Loss: 1.4149\n",
            "Epoch: 13/20... Step: 1670... Loss: 1.4025... Val Loss: 1.4153\n",
            "Epoch: 13/20... Step: 1680... Loss: 1.4118... Val Loss: 1.4104\n",
            "Epoch: 13/20... Step: 1690... Loss: 1.3866... Val Loss: 1.4050\n",
            "Epoch: 13/20... Step: 1700... Loss: 1.3761... Val Loss: 1.4088\n",
            "Epoch: 13/20... Step: 1710... Loss: 1.3646... Val Loss: 1.4050\n",
            "Epoch: 13/20... Step: 1720... Loss: 1.3698... Val Loss: 1.4063\n",
            "Epoch: 13/20... Step: 1730... Loss: 1.4108... Val Loss: 1.4050\n",
            "Epoch: 13/20... Step: 1740... Loss: 1.3811... Val Loss: 1.4057\n",
            "Epoch: 13/20... Step: 1750... Loss: 1.3418... Val Loss: 1.4074\n",
            "Epoch: 13/20... Step: 1760... Loss: 1.3790... Val Loss: 1.4037\n",
            "Epoch: 13/20... Step: 1770... Loss: 1.3924... Val Loss: 1.4020\n",
            "Epoch: 13/20... Step: 1780... Loss: 1.3516... Val Loss: 1.4009\n",
            "Epoch: 13/20... Step: 1790... Loss: 1.3688... Val Loss: 1.4017\n",
            "Epoch: 13/20... Step: 1800... Loss: 1.3769... Val Loss: 1.3995\n",
            "Epoch: 14/20... Step: 1810... Loss: 1.3891... Val Loss: 1.4021\n",
            "Epoch: 14/20... Step: 1820... Loss: 1.3732... Val Loss: 1.3953\n",
            "Epoch: 14/20... Step: 1830... Loss: 1.3934... Val Loss: 1.3919\n",
            "Epoch: 14/20... Step: 1840... Loss: 1.3388... Val Loss: 1.3937\n",
            "Epoch: 14/20... Step: 1850... Loss: 1.3214... Val Loss: 1.3899\n",
            "Epoch: 14/20... Step: 1860... Loss: 1.3765... Val Loss: 1.3913\n",
            "Epoch: 14/20... Step: 1870... Loss: 1.3862... Val Loss: 1.3936\n",
            "Epoch: 14/20... Step: 1880... Loss: 1.3727... Val Loss: 1.3933\n",
            "Epoch: 14/20... Step: 1890... Loss: 1.3886... Val Loss: 1.3942\n",
            "Epoch: 14/20... Step: 1900... Loss: 1.3724... Val Loss: 1.3927\n",
            "Epoch: 14/20... Step: 1910... Loss: 1.3617... Val Loss: 1.3856\n",
            "Epoch: 14/20... Step: 1920... Loss: 1.3639... Val Loss: 1.3842\n",
            "Epoch: 14/20... Step: 1930... Loss: 1.3392... Val Loss: 1.3888\n",
            "Epoch: 14/20... Step: 1940... Loss: 1.3860... Val Loss: 1.3852\n",
            "Epoch: 15/20... Step: 1950... Loss: 1.3540... Val Loss: 1.3856\n",
            "Epoch: 15/20... Step: 1960... Loss: 1.3602... Val Loss: 1.3809\n",
            "Epoch: 15/20... Step: 1970... Loss: 1.3478... Val Loss: 1.3794\n",
            "Epoch: 15/20... Step: 1980... Loss: 1.3453... Val Loss: 1.3825\n",
            "Epoch: 15/20... Step: 1990... Loss: 1.3440... Val Loss: 1.3788\n",
            "Epoch: 15/20... Step: 2000... Loss: 1.3250... Val Loss: 1.3788\n",
            "Epoch: 15/20... Step: 2010... Loss: 1.3541... Val Loss: 1.3780\n",
            "Epoch: 15/20... Step: 2020... Loss: 1.3612... Val Loss: 1.3800\n",
            "Epoch: 15/20... Step: 2030... Loss: 1.3306... Val Loss: 1.3824\n",
            "Epoch: 15/20... Step: 2040... Loss: 1.3452... Val Loss: 1.3787\n",
            "Epoch: 15/20... Step: 2050... Loss: 1.3386... Val Loss: 1.3753\n",
            "Epoch: 15/20... Step: 2060... Loss: 1.3467... Val Loss: 1.3747\n",
            "Epoch: 15/20... Step: 2070... Loss: 1.3551... Val Loss: 1.3744\n",
            "Epoch: 15/20... Step: 2080... Loss: 1.3446... Val Loss: 1.3741\n",
            "Epoch: 16/20... Step: 2090... Loss: 1.3544... Val Loss: 1.3728\n",
            "Epoch: 16/20... Step: 2100... Loss: 1.3349... Val Loss: 1.3701\n",
            "Epoch: 16/20... Step: 2110... Loss: 1.3277... Val Loss: 1.3676\n",
            "Epoch: 16/20... Step: 2120... Loss: 1.3518... Val Loss: 1.3706\n",
            "Epoch: 16/20... Step: 2130... Loss: 1.3178... Val Loss: 1.3685\n",
            "Epoch: 16/20... Step: 2140... Loss: 1.3218... Val Loss: 1.3685\n",
            "Epoch: 16/20... Step: 2150... Loss: 1.3511... Val Loss: 1.3686\n",
            "Epoch: 16/20... Step: 2160... Loss: 1.3357... Val Loss: 1.3710\n",
            "Epoch: 16/20... Step: 2170... Loss: 1.3279... Val Loss: 1.3687\n",
            "Epoch: 16/20... Step: 2180... Loss: 1.3191... Val Loss: 1.3676\n",
            "Epoch: 16/20... Step: 2190... Loss: 1.3484... Val Loss: 1.3639\n",
            "Epoch: 16/20... Step: 2200... Loss: 1.3213... Val Loss: 1.3644\n",
            "Epoch: 16/20... Step: 2210... Loss: 1.2934... Val Loss: 1.3603\n",
            "Epoch: 16/20... Step: 2220... Loss: 1.3368... Val Loss: 1.3610\n",
            "Epoch: 17/20... Step: 2230... Loss: 1.3051... Val Loss: 1.3594\n",
            "Epoch: 17/20... Step: 2240... Loss: 1.3235... Val Loss: 1.3590\n",
            "Epoch: 17/20... Step: 2250... Loss: 1.3040... Val Loss: 1.3556\n",
            "Epoch: 17/20... Step: 2260... Loss: 1.3126... Val Loss: 1.3509\n",
            "Epoch: 17/20... Step: 2270... Loss: 1.3204... Val Loss: 1.3516\n",
            "Epoch: 17/20... Step: 2280... Loss: 1.3192... Val Loss: 1.3507\n",
            "Epoch: 17/20... Step: 2290... Loss: 1.3181... Val Loss: 1.3549\n",
            "Epoch: 17/20... Step: 2300... Loss: 1.2764... Val Loss: 1.3581\n",
            "Epoch: 17/20... Step: 2310... Loss: 1.3135... Val Loss: 1.3562\n",
            "Epoch: 17/20... Step: 2320... Loss: 1.3119... Val Loss: 1.3555\n",
            "Epoch: 17/20... Step: 2330... Loss: 1.2968... Val Loss: 1.3482\n",
            "Epoch: 17/20... Step: 2340... Loss: 1.3214... Val Loss: 1.3478\n",
            "Epoch: 17/20... Step: 2350... Loss: 1.3110... Val Loss: 1.3464\n",
            "Epoch: 17/20... Step: 2360... Loss: 1.3259... Val Loss: 1.3469\n",
            "Epoch: 18/20... Step: 2370... Loss: 1.2966... Val Loss: 1.3487\n",
            "Epoch: 18/20... Step: 2380... Loss: 1.2981... Val Loss: 1.3452\n",
            "Epoch: 18/20... Step: 2390... Loss: 1.2986... Val Loss: 1.3416\n",
            "Epoch: 18/20... Step: 2400... Loss: 1.3264... Val Loss: 1.3426\n",
            "Epoch: 18/20... Step: 2410... Loss: 1.3172... Val Loss: 1.3416\n",
            "Epoch: 18/20... Step: 2420... Loss: 1.2951... Val Loss: 1.3423\n",
            "Epoch: 18/20... Step: 2430... Loss: 1.2927... Val Loss: 1.3434\n",
            "Epoch: 18/20... Step: 2440... Loss: 1.2871... Val Loss: 1.3418\n",
            "Epoch: 18/20... Step: 2450... Loss: 1.2852... Val Loss: 1.3405\n",
            "Epoch: 18/20... Step: 2460... Loss: 1.3035... Val Loss: 1.3369\n",
            "Epoch: 18/20... Step: 2470... Loss: 1.2957... Val Loss: 1.3356\n",
            "Epoch: 18/20... Step: 2480... Loss: 1.2749... Val Loss: 1.3363\n",
            "Epoch: 18/20... Step: 2490... Loss: 1.2747... Val Loss: 1.3331\n",
            "Epoch: 18/20... Step: 2500... Loss: 1.2802... Val Loss: 1.3329\n",
            "Epoch: 19/20... Step: 2510... Loss: 1.2844... Val Loss: 1.3315\n",
            "Epoch: 19/20... Step: 2520... Loss: 1.2926... Val Loss: 1.3340\n",
            "Epoch: 19/20... Step: 2530... Loss: 1.3056... Val Loss: 1.3302\n",
            "Epoch: 19/20... Step: 2540... Loss: 1.3102... Val Loss: 1.3298\n",
            "Epoch: 19/20... Step: 2550... Loss: 1.2792... Val Loss: 1.3306\n",
            "Epoch: 19/20... Step: 2560... Loss: 1.2827... Val Loss: 1.3282\n",
            "Epoch: 19/20... Step: 2570... Loss: 1.2746... Val Loss: 1.3321\n",
            "Epoch: 19/20... Step: 2580... Loss: 1.3115... Val Loss: 1.3326\n",
            "Epoch: 19/20... Step: 2590... Loss: 1.2687... Val Loss: 1.3284\n",
            "Epoch: 19/20... Step: 2600... Loss: 1.2658... Val Loss: 1.3289\n",
            "Epoch: 19/20... Step: 2610... Loss: 1.2884... Val Loss: 1.3300\n",
            "Epoch: 19/20... Step: 2620... Loss: 1.2664... Val Loss: 1.3277\n",
            "Epoch: 19/20... Step: 2630... Loss: 1.2640... Val Loss: 1.3268\n",
            "Epoch: 19/20... Step: 2640... Loss: 1.2872... Val Loss: 1.3308\n",
            "Epoch: 20/20... Step: 2650... Loss: 1.2902... Val Loss: 1.3306\n",
            "Epoch: 20/20... Step: 2660... Loss: 1.2741... Val Loss: 1.3277\n",
            "Epoch: 20/20... Step: 2670... Loss: 1.2934... Val Loss: 1.3265\n",
            "Epoch: 20/20... Step: 2680... Loss: 1.2851... Val Loss: 1.3264\n",
            "Epoch: 20/20... Step: 2690... Loss: 1.2715... Val Loss: 1.3238\n",
            "Epoch: 20/20... Step: 2700... Loss: 1.2832... Val Loss: 1.3254\n",
            "Epoch: 20/20... Step: 2710... Loss: 1.2553... Val Loss: 1.3224\n",
            "Epoch: 20/20... Step: 2720... Loss: 1.2497... Val Loss: 1.3270\n",
            "Epoch: 20/20... Step: 2730... Loss: 1.2549... Val Loss: 1.3222\n",
            "Epoch: 20/20... Step: 2740... Loss: 1.2472... Val Loss: 1.3229\n",
            "Epoch: 20/20... Step: 2750... Loss: 1.2554... Val Loss: 1.3256\n",
            "Epoch: 20/20... Step: 2760... Loss: 1.2347... Val Loss: 1.3208\n",
            "Epoch: 20/20... Step: 2770... Loss: 1.2851... Val Loss: 1.3214\n",
            "Epoch: 20/20... Step: 2780... Loss: 1.2573... Val Loss: 1.3204\n"
          ],
          "name": "stdout"
        }
      ]
    },
    {
      "cell_type": "markdown",
      "metadata": {
        "id": "qzinpRpmcX2Q",
        "colab_type": "text"
      },
      "source": [
        "## Getting the best model\n",
        "\n",
        "To set your hyperparameters to get the best performance, you'll want to watch the training and validation losses. If your training loss is much lower than the validation loss, you're overfitting. Increase regularization (more dropout) or use a smaller network. If the training and validation losses are close, you're underfitting so you can increase the size of the network."
      ]
    },
    {
      "cell_type": "markdown",
      "metadata": {
        "id": "-ngTKER8cX2Q",
        "colab_type": "text"
      },
      "source": [
        "## Hyperparameters\n",
        "\n",
        "Here are the hyperparameters for the network.\n",
        "\n",
        "In defining the model:\n",
        "* `n_hidden` - The number of units in the hidden layers.\n",
        "* `n_layers` - Number of hidden LSTM layers to use.\n",
        "\n",
        "We assume that dropout probability and learning rate will be kept at the default, in this example.\n",
        "\n",
        "And in training:\n",
        "* `batch_size` - Number of sequences running through the network in one pass.\n",
        "* `seq_length` - Number of characters in the sequence the network is trained on. Larger is better typically, the network will learn more long range dependencies. But it takes longer to train. 100 is typically a good number here.\n",
        "* `lr` - Learning rate for training\n",
        "\n",
        "Here's some good advice from Andrej Karpathy on training the network. I'm going to copy it in here for your benefit, but also link to [where it originally came from](https://github.com/karpathy/char-rnn#tips-and-tricks).\n",
        "\n",
        "> ## Tips and Tricks\n",
        "\n",
        ">### Monitoring Validation Loss vs. Training Loss\n",
        ">If you're somewhat new to Machine Learning or Neural Networks it can take a bit of expertise to get good models. The most important quantity to keep track of is the difference between your training loss (printed during training) and the validation loss (printed once in a while when the RNN is run on the validation data (by default every 1000 iterations)). In particular:\n",
        "\n",
        "> - If your training loss is much lower than validation loss then this means the network might be **overfitting**. Solutions to this are to decrease your network size, or to increase dropout. For example you could try dropout of 0.5 and so on.\n",
        "> - If your training/validation loss are about equal then your model is **underfitting**. Increase the size of your model (either number of layers or the raw number of neurons per layer)\n",
        "\n",
        "> ### Approximate number of parameters\n",
        "\n",
        "> The two most important parameters that control the model are `n_hidden` and `n_layers`. I would advise that you always use `n_layers` of either 2/3. The `n_hidden` can be adjusted based on how much data you have. The two important quantities to keep track of here are:\n",
        "\n",
        "> - The number of parameters in your model. This is printed when you start training.\n",
        "> - The size of your dataset. 1MB file is approximately 1 million characters.\n",
        "\n",
        ">These two should be about the same order of magnitude. It's a little tricky to tell. Here are some examples:\n",
        "\n",
        "> - I have a 100MB dataset and I'm using the default parameter settings (which currently print 150K parameters). My data size is significantly larger (100 mil >> 0.15 mil), so I expect to heavily underfit. I am thinking I can comfortably afford to make `n_hidden` larger.\n",
        "> - I have a 10MB dataset and running a 10 million parameter model. I'm slightly nervous and I'm carefully monitoring my validation loss. If it's larger than my training loss then I may want to try to increase dropout a bit and see if that helps the validation loss.\n",
        "\n",
        "> ### Best models strategy\n",
        "\n",
        ">The winning strategy to obtaining very good models (if you have the compute time) is to always err on making the network larger (as large as you're willing to wait for it to compute) and then try different dropout values (between 0,1). Whatever model has the best validation performance (the loss, written in the checkpoint filename, low is good) is the one you should use in the end.\n",
        "\n",
        ">It is very common in deep learning to run many different models with many different hyperparameter settings, and in the end take whatever checkpoint gave the best validation performance.\n",
        "\n",
        ">By the way, the size of your training and validation splits are also parameters. Make sure you have a decent amount of data in your validation set or otherwise the validation performance will be noisy and not very informative."
      ]
    },
    {
      "cell_type": "markdown",
      "metadata": {
        "id": "Qd8z4T9zcX2R",
        "colab_type": "text"
      },
      "source": [
        "## Checkpoint\n",
        "\n",
        "After training, we'll save the model so we can load it again later if we need too. Here I'm saving the parameters needed to create the same architecture, the hidden layer hyperparameters and the text characters."
      ]
    },
    {
      "cell_type": "code",
      "metadata": {
        "id": "nn4IRHffcX2R",
        "colab_type": "code",
        "colab": {}
      },
      "source": [
        "# change the name, for saving multiple files\n",
        "model_name = 'rnn_x_epoch.net'\n",
        "\n",
        "checkpoint = {'n_hidden': net.n_hidden,\n",
        "              'n_layers': net.n_layers,\n",
        "              'state_dict': net.state_dict(),\n",
        "              'tokens': net.chars}\n",
        "\n",
        "with open(model_name, 'wb') as f:\n",
        "    torch.save(checkpoint, f)"
      ],
      "execution_count": 0,
      "outputs": []
    },
    {
      "cell_type": "markdown",
      "metadata": {
        "id": "fesLGQz-cX2T",
        "colab_type": "text"
      },
      "source": [
        "---\n",
        "## Making Predictions\n",
        "\n",
        "Now that the model is trained, we'll want to sample from it and make predictions about next characters! To sample, we pass in a character and have the network predict the next character. Then we take that character, pass it back in, and get another predicted character. Just keep doing this and you'll generate a bunch of text!\n",
        "\n",
        "### A note on the `predict`  function\n",
        "\n",
        "The output of our RNN is from a fully-connected layer and it outputs a **distribution of next-character scores**.\n",
        "\n",
        "> To actually get the next character, we apply a softmax function, which gives us a *probability* distribution that we can then sample to predict the next character.\n",
        "\n",
        "### Top K sampling\n",
        "\n",
        "Our predictions come from a categorical probability distribution over all the possible characters. We can make the sample text and make it more reasonable to handle (with less variables) by only considering some $K$ most probable characters. This will prevent the network from giving us completely absurd characters while allowing it to introduce some noise and randomness into the sampled text. Read more about [topk, here](https://pytorch.org/docs/stable/torch.html#torch.topk).\n"
      ]
    },
    {
      "cell_type": "code",
      "metadata": {
        "id": "GA2u4z20cX2T",
        "colab_type": "code",
        "colab": {}
      },
      "source": [
        "def predict(net, char, h=None, top_k=None):\n",
        "        ''' Given a character, predict the next character.\n",
        "            Returns the predicted character and the hidden state.\n",
        "        '''\n",
        "        \n",
        "        # tensor inputs\n",
        "        x = np.array([[net.char2int[char]]])\n",
        "        x = one_hot_encode(x, len(net.chars))\n",
        "        inputs = torch.from_numpy(x)\n",
        "        \n",
        "        if(train_on_gpu):\n",
        "            inputs = inputs.cuda()\n",
        "        \n",
        "        # detach hidden state from history\n",
        "        h = tuple([each.data for each in h])\n",
        "        # get the output of the model\n",
        "        out, h = net(inputs, h)\n",
        "\n",
        "        # get the character probabilities\n",
        "        p = F.softmax(out, dim=1).data\n",
        "        if(train_on_gpu):\n",
        "            p = p.cpu() # move to cpu\n",
        "        \n",
        "        # get top characters\n",
        "        if top_k is None:\n",
        "            top_ch = np.arange(len(net.chars))\n",
        "        else:\n",
        "            p, top_ch = p.topk(top_k)\n",
        "            top_ch = top_ch.numpy().squeeze()\n",
        "        \n",
        "        # select the likely next character with some element of randomness\n",
        "        p = p.numpy().squeeze()\n",
        "        char = np.random.choice(top_ch, p=p/p.sum())\n",
        "        \n",
        "        # return the encoded value of the predicted char and the hidden state\n",
        "        return net.int2char[char], h"
      ],
      "execution_count": 0,
      "outputs": []
    },
    {
      "cell_type": "markdown",
      "metadata": {
        "id": "u3eUR1q9cX2U",
        "colab_type": "text"
      },
      "source": [
        "### Priming and generating text \n",
        "\n",
        "Typically you'll want to prime the network so you can build up a hidden state. Otherwise the network will start out generating characters at random. In general the first bunch of characters will be a little rough since it hasn't built up a long history of characters to predict from."
      ]
    },
    {
      "cell_type": "code",
      "metadata": {
        "id": "rxyu_QLwcX2V",
        "colab_type": "code",
        "colab": {}
      },
      "source": [
        "def sample(net, size, prime='The', top_k=None):\n",
        "        \n",
        "    if(train_on_gpu):\n",
        "        net.cuda()\n",
        "    else:\n",
        "        net.cpu()\n",
        "    \n",
        "    net.eval() # eval mode\n",
        "    \n",
        "    # First off, run through the prime characters\n",
        "    chars = [ch for ch in prime]\n",
        "    h = net.init_hidden(1)\n",
        "    for ch in prime:\n",
        "        char, h = predict(net, ch, h, top_k=top_k)\n",
        "\n",
        "    chars.append(char)\n",
        "    \n",
        "    # Now pass in the previous character and get a new one\n",
        "    for ii in range(size):\n",
        "        char, h = predict(net, chars[-1], h, top_k=top_k)\n",
        "        chars.append(char)\n",
        "\n",
        "    return ''.join(chars)"
      ],
      "execution_count": 0,
      "outputs": []
    },
    {
      "cell_type": "code",
      "metadata": {
        "id": "xBJTuIIqcX2W",
        "colab_type": "code",
        "colab": {}
      },
      "source": [
        "print(sample(net, 1000, prime='Anna', top_k=5))"
      ],
      "execution_count": 0,
      "outputs": []
    },
    {
      "cell_type": "markdown",
      "metadata": {
        "id": "Rxtb7kHXcX2X",
        "colab_type": "text"
      },
      "source": [
        "## Loading a checkpoint"
      ]
    },
    {
      "cell_type": "code",
      "metadata": {
        "id": "afTFrHh9cX2X",
        "colab_type": "code",
        "colab": {}
      },
      "source": [
        "# Here we have loaded in a model that trained over 20 epochs `rnn_20_epoch.net`\n",
        "with open('rnn_x_epoch.net', 'rb') as f:\n",
        "    checkpoint = torch.load(f)\n",
        "    \n",
        "loaded = CharRNN(checkpoint['tokens'], n_hidden=checkpoint['n_hidden'], n_layers=checkpoint['n_layers'])\n",
        "loaded.load_state_dict(checkpoint['state_dict'])"
      ],
      "execution_count": 0,
      "outputs": []
    },
    {
      "cell_type": "code",
      "metadata": {
        "id": "fmM7P2GbcX2Y",
        "colab_type": "code",
        "colab": {}
      },
      "source": [
        "# Sample using a loaded model\n",
        "print(sample(loaded, 2000, top_k=5, prime=\"And Levin said\"))"
      ],
      "execution_count": 0,
      "outputs": []
    },
    {
      "cell_type": "code",
      "metadata": {
        "id": "cVaWdTAXcX2Z",
        "colab_type": "code",
        "colab": {}
      },
      "source": [
        ""
      ],
      "execution_count": 0,
      "outputs": []
    }
  ]
}